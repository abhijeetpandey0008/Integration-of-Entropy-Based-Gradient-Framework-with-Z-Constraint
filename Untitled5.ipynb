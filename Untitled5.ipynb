{
  "nbformat": 4,
  "nbformat_minor": 0,
  "metadata": {
    "colab": {
      "provenance": []
    },
    "kernelspec": {
      "name": "python3",
      "display_name": "Python 3"
    },
    "language_info": {
      "name": "python"
    }
  },
  "cells": [
    {
      "cell_type": "code",
      "execution_count": 1,
      "metadata": {
        "id": "LaDwZOPQHMCD"
      },
      "outputs": [],
      "source": [
        "import numpy as np\n",
        "import matplotlib.pyplot as plt\n",
        "import tensorflow as tf\n",
        "from tensorflow import keras\n"
      ]
    },
    {
      "cell_type": "code",
      "source": [
        "# Load MNIST dataset\n",
        "(x_train, y_train), (x_test, y_test) = tf.keras.datasets.mnist.load_data()"
      ],
      "metadata": {
        "colab": {
          "base_uri": "https://localhost:8080/"
        },
        "id": "UYsCE3MQP63Y",
        "outputId": "a0ecdc97-0cfe-421b-9746-f3f3ef7e91dd"
      },
      "execution_count": 2,
      "outputs": [
        {
          "output_type": "stream",
          "name": "stdout",
          "text": [
            "Downloading data from https://storage.googleapis.com/tensorflow/tf-keras-datasets/mnist.npz\n",
            "\u001b[1m11490434/11490434\u001b[0m \u001b[32m━━━━━━━━━━━━━━━━━━━━\u001b[0m\u001b[37m\u001b[0m \u001b[1m2s\u001b[0m 0us/step\n"
          ]
        }
      ]
    },
    {
      "cell_type": "code",
      "source": [
        "# Normalize images to [0, 1] and flatten\n",
        "x_train = x_train / 255.0\n",
        "x_test = x_test / 255.0\n",
        "x_train = x_train.reshape(-1, 28 * 28)\n",
        "x_test = x_test.reshape(-1, 28 * 28)"
      ],
      "metadata": {
        "id": "KeEReE1MQO7y"
      },
      "execution_count": 3,
      "outputs": []
    },
    {
      "cell_type": "code",
      "source": [
        "# Convert labels to even (0) or odd (1)\n",
        "y_train_even_odd = np.array([label % 2 for label in y_train])\n",
        "y_test_even_odd = np.array([label % 2 for label in y_test])"
      ],
      "metadata": {
        "id": "XsUfZfqaQS24"
      },
      "execution_count": 4,
      "outputs": []
    },
    {
      "cell_type": "code",
      "source": [
        "# Hyperparameters\n",
        "n_features = 28 * 28\n",
        "eta = 0.001  # Initial learning rate\n",
        "delta = 0.05  # z constraint parameter\n",
        "epochs = 5\n",
        "batch_size = 32"
      ],
      "metadata": {
        "id": "__XKO903QWaf"
      },
      "execution_count": 5,
      "outputs": []
    },
    {
      "cell_type": "code",
      "source": [
        "# Initialize parameters\n",
        "np.random.seed(42)\n",
        "w1 = np.random.randn(n_features) * 0.01  # First set of weights\n",
        "G1 = np.random.randn(n_features) * 0.01  # Second set of weights\n",
        "b1 = np.random.randn(1) * 0.01  # Bias"
      ],
      "metadata": {
        "id": "kWt8L492QadS"
      },
      "execution_count": 6,
      "outputs": []
    },
    {
      "cell_type": "code",
      "source": [
        "# Sigmoid activation function\n",
        "def sigmoid(z):\n",
        "    return 1 / (1 + np.exp(-z))"
      ],
      "metadata": {
        "id": "2EQDPHlSQdNX"
      },
      "execution_count": 7,
      "outputs": []
    },
    {
      "cell_type": "code",
      "source": [
        "# Compute knowledge z_k and activation D_k\n",
        "def compute_z_and_D(X, w1, G1, b1):\n",
        "    z = np.dot(X, w1 + G1) + b1  # Linear combination\n",
        "    D = sigmoid(z)  # Activation\n",
        "    return z, D"
      ],
      "metadata": {
        "id": "dmgKGvR5Qh23"
      },
      "execution_count": 8,
      "outputs": []
    },
    {
      "cell_type": "code",
      "source": [
        "# Entropy gradient computation\n",
        "def entropy_gradient(z, D):\n",
        "    return -(1 / np.log(2)) * z * D * (1 - D)"
      ],
      "metadata": {
        "id": "0uaJ-YoGQk6T"
      },
      "execution_count": 9,
      "outputs": []
    },
    {
      "cell_type": "code",
      "source": [
        "# Custom training loop with z constraint\n",
        "def train_step(X_batch, w1, G1, b1, eta, delta, prev_z):\n",
        "    # Compute current z and D\n",
        "    z_current, D_current = compute_z_and_D(X_batch, w1, G1, b1)\n",
        "\n",
        "    # Compute entropy gradient\n",
        "    grad_H_z = entropy_gradient(z_current, D_current)\n",
        "\n",
        "    # Compute parameter updates\n",
        "    grad_w1 = np.dot(grad_H_z, X_batch) / batch_size\n",
        "    grad_G1 = grad_w1  # Same gradient as applied to input features\n",
        "    grad_b1 = np.mean(grad_H_z)\n",
        "\n",
        "    # Proposed parameter updates\n",
        "    w1_new = w1 - eta * grad_w1\n",
        "    G1_new = G1 - eta * grad_G1\n",
        "    b1_new = b1 - eta * grad_b1\n",
        "\n",
        "    # Check z constraint\n",
        "    z_new, _ = compute_z_and_D(X_batch, w1_new, G1_new, b1_new)\n",
        "    z_diff = z_new - prev_z\n",
        "\n",
        "    # Enforce z_{i+1} - z_i < delta (only for increases)\n",
        "    if np.any(z_diff > delta):\n",
        "        scale = delta / np.max(z_diff)  # Scale down updates\n",
        "        eta_adjusted = eta * scale\n",
        "        w1_new = w1 - eta_adjusted * grad_w1\n",
        "        G1_new = G1 - eta_adjusted * grad_G1\n",
        "        b1_new = b1 - eta_adjusted * grad_b1\n",
        "        z_new, D_new = compute_z_and_D(X_batch, w1_new, G1_new, b1_new)\n",
        "    else:\n",
        "        D_new = D_current\n",
        "\n",
        "    return w1_new, G1_new, b1_new, z_new, D_new"
      ],
      "metadata": {
        "id": "16ZswSkOQnYt"
      },
      "execution_count": 10,
      "outputs": []
    },
    {
      "cell_type": "code",
      "source": [
        "# Evaluate accuracy\n",
        "def compute_accuracy(X, y, w1, G1, b1):\n",
        "    _, D = compute_z_and_D(X, w1, G1, b1)\n",
        "    predictions = (D >= 0.5).astype(int)\n",
        "    return np.mean(predictions == y)"
      ],
      "metadata": {
        "id": "VS8SIEGhQvKJ"
      },
      "execution_count": 11,
      "outputs": []
    },
    {
      "cell_type": "code",
      "source": [
        "# Training loop\n",
        "accuracy_history = []\n",
        "n_samples = x_train.shape[0]\n",
        "n_batches = n_samples // batch_size\n",
        "for epoch in range(epochs):\n",
        "    # Shuffle training data\n",
        "    indices = np.random.permutation(n_samples)\n",
        "    X_shuffled = x_train[indices]\n",
        "    y_shuffled = y_train_even_odd[indices]\n",
        "\n",
        "    # Initialize previous z for the first batch\n",
        "    prev_z = np.zeros(batch_size)\n",
        "\n",
        "    for batch in range(n_batches):\n",
        "        start = batch * batch_size\n",
        "        end = start + batch_size\n",
        "        X_batch = X_shuffled[start:end]\n",
        "        y_batch = y_shuffled[start:end]\n",
        "\n",
        "        # Update parameters with z constraint\n",
        "        w1, G1, b1, z_current, _ = train_step(X_batch, w1, G1, b1, eta, delta, prev_z)\n",
        "        prev_z = z_current\n",
        "    # Compute and store test accuracy AFTER EACH EPOCH\n",
        "    test_acc = compute_accuracy(x_test, y_test_even_odd, w1, G1, b1)\n",
        "    accuracy_history.append(test_acc)\n",
        "    print(f\"Epoch {epoch+1}/{epochs}, Test Accuracy: {test_acc:.4f}\")\n",
        "# Final evaluation\n",
        "final_acc = compute_accuracy(x_test, y_test_even_odd, w1, G1, b1)\n",
        "print(f\"Final Test Accuracy: {final_acc:.4f}\")"
      ],
      "metadata": {
        "colab": {
          "base_uri": "https://localhost:8080/"
        },
        "id": "-pjHekNeSGee",
        "outputId": "bc007c9e-f942-4a4e-fd85-18352a5223da"
      },
      "execution_count": 23,
      "outputs": [
        {
          "output_type": "stream",
          "name": "stdout",
          "text": [
            "Epoch 1/5, Test Accuracy: 0.5074\n",
            "Epoch 2/5, Test Accuracy: 0.5074\n",
            "Epoch 3/5, Test Accuracy: 0.5074\n",
            "Epoch 4/5, Test Accuracy: 0.5074\n",
            "Epoch 5/5, Test Accuracy: 0.5074\n",
            "Final Test Accuracy: 0.5074\n"
          ]
        }
      ]
    },
    {
      "cell_type": "code",
      "source": [
        "# Visualize 10 random test images\n",
        "random_indices = np.random.randint(0, x_test.shape[0], size=10)\n",
        "plt.figure(figsize=(15, 6))\n",
        "for idx, i in enumerate(random_indices):\n",
        "    image = x_test[i].reshape(28, 28)\n",
        "    true_label = y_test_even_odd[i]\n",
        "    _, D = compute_z_and_D(x_test[i:i+1], w1, G1, b1)\n",
        "    prediction = 1 if D[0] >= 0.5 else 0\n",
        "    true_text = \"Odd\" if true_label == 1 else \"Even\"\n",
        "    pred_text = \"Odd\" if prediction == 1 else \"Even\"\n",
        "\n",
        "    plt.subplot(2, 5, idx + 1)\n",
        "    plt.imshow(image, cmap='gray')\n",
        "    plt.title(f\"True: {true_text}\\nPred: {pred_text}\")\n",
        "    plt.axis('off')\n",
        "plt.tight_layout()\n",
        "plt.savefig('test_results.png')\n",
        "plt.show()"
      ],
      "metadata": {
        "colab": {
          "base_uri": "https://localhost:8080/",
          "height": 491
        },
        "id": "MRFV9mYCREic",
        "outputId": "f9716db8-a5ec-4242-b89a-e5fa68d64f28"
      },
      "execution_count": 24,
      "outputs": [
        {
          "output_type": "display_data",
          "data": {
            "text/plain": [
              "<Figure size 1500x600 with 10 Axes>"
            ],
            "image/png": "[encoded data removed]"
          },
          "metadata": {}
        }
      ]
    },
    {
      "cell_type": "code",
      "source": [
        "# Plot accuracy history\n",
        "plt.figure(figsize=(8, 5))\n",
        "plt.plot(range(1, epochs + 1), accuracy_history, marker='o')\n",
        "plt.xlabel('Epoch')\n",
        "plt.ylabel('Test Accuracy')\n",
        "plt.title('Accuracy Over Training Epochs')\n",
        "plt.grid(True)\n",
        "plt.savefig('accuracy_history.png')\n",
        "plt.show()"
      ],
      "metadata": {
        "colab": {
          "base_uri": "https://localhost:8080/",
          "height": 487
        },
        "id": "uriNikYhRIKP",
        "outputId": "4e93aa5c-66ff-4d2d-cb47-12bc487481fa"
      },
      "execution_count": 25,
      "outputs": [
        {
          "output_type": "display_data",
          "data": {
            "text/plain": [
              "<Figure size 800x500 with 1 Axes>"
            ],
            "image/png": "[encoded data removed]"
          },
          "metadata": {}
        }
      ]
    },
    {
      "cell_type": "code",
      "source": [],
      "metadata": {
        "id": "cOgKMEU_RMzK"
      },
      "execution_count": null,
      "outputs": []
    }
  ]
}