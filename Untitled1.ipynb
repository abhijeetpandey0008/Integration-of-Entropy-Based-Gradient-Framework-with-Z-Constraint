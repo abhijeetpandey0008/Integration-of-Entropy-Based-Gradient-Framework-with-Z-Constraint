{
  "nbformat": 4,
  "nbformat_minor": 0,
  "metadata": {
    "colab": {
      "provenance": []
    },
    "kernelspec": {
      "name": "python3",
      "display_name": "Python 3"
    },
    "language_info": {
      "name": "python"
    }
  },
  "cells": [
    {
      "cell_type": "code",
      "execution_count": 68,
      "metadata": {
        "id": "scpm0cEWzQ8X"
      },
      "outputs": [],
      "source": [
        "import numpy as np\n",
        "import matplotlib.pyplot as plt\n",
        "import tensorflow as tf\n",
        "from tensorflow import keras"
      ]
    },
    {
      "cell_type": "code",
      "source": [
        "# ... (your data loading and preprocessing code) ...\n",
        "(x_train, y_train), (x_test, y_test) = tf.keras.datasets.mnist.load_data()"
      ],
      "metadata": {
        "id": "ae71-egqzdEv"
      },
      "execution_count": 69,
      "outputs": []
    },
    {
      "cell_type": "code",
      "source": [
        "# Normalize images to [0, 1] and flatten\n",
        "x_train = x_train / 255.0\n",
        "x_test = x_test / 255.0\n",
        "x_train = x_train.reshape(-1, 28 * 28)\n",
        "x_test = x_test.reshape(-1, 28 * 28)"
      ],
      "metadata": {
        "id": "lypMKsY-zhbq"
      },
      "execution_count": 70,
      "outputs": []
    },
    {
      "cell_type": "code",
      "source": [
        "# Convert labels to even (0) or odd (1)\n",
        "y_train_even_odd = np.array([label % 2 for label in y_train])\n",
        "y_test_even_odd = np.array([label % 2 for label in y_test])"
      ],
      "metadata": {
        "id": "pNA1p_N2zk1m"
      },
      "execution_count": 71,
      "outputs": []
    },
    {
      "cell_type": "code",
      "source": [
        "# Model definition\n",
        "model = keras.Sequential([\n",
        "    keras.layers.Input(shape=(784,)),  # Input layer\n",
        "    keras.layers.Dense(128, activation='relu'),  # Hidden layer\n",
        "    keras.layers.Dense(1, activation='sigmoid')  # Output layer\n",
        "])"
      ],
      "metadata": {
        "id": "1JNLw8p_8F55"
      },
      "execution_count": 72,
      "outputs": []
    },
    {
      "cell_type": "code",
      "source": [
        "# Model compilation\n",
        "model.compile(optimizer='adam',\n",
        "              loss='binary_crossentropy',\n",
        "              metrics=['accuracy'])\n"
      ],
      "metadata": {
        "id": "bdEQuvc18Mns"
      },
      "execution_count": 73,
      "outputs": []
    },
    {
      "cell_type": "code",
      "source": [
        "# Hyperparameters\n",
        "n_features = 28 * 28\n",
        "n_hidden = 128 # Number of neurons in the hidden layer\n",
        "initial_eta = 0.01  # Initial learning rate\n",
        "epochs = 30\n",
        "batch_size = 32\n",
        "decay_rate = 0.99\n",
        "decay_step = 1\n",
        "lambda_reg = 0.0 # L2 regularization strength added\n",
        "\n",
        "eta = initial_eta"
      ],
      "metadata": {
        "id": "W30eU2pnzoKi"
      },
      "execution_count": 82,
      "outputs": []
    },
    {
      "cell_type": "code",
      "source": [
        "# Initialize parameters\n",
        "np.random.seed(42)\n",
        "# First layer weights and biases\n",
        "# w1 = np.random.randn(n_features, n_hidden) * 0.01\n",
        "w1 = np.random.randn(n_features, n_hidden) * np.sqrt(2.0 / n_features)\n",
        "\n",
        "b1 = np.zeros((1, n_hidden))\n",
        "\n",
        "# Second layer weights and biases\n",
        "# w2 = np.random.randn(n_hidden, 1) * 0.01\n",
        "w2 = np.random.randn(n_hidden, 1) * np.sqrt(2.0 / n_hidden)\n",
        "\n",
        "b2 = np.zeros((1, 1))"
      ],
      "metadata": {
        "id": "Ooc_nPo5zsg6"
      },
      "execution_count": 83,
      "outputs": []
    },
    {
      "cell_type": "code",
      "source": [
        " #Sigmoid activation function\n",
        "def sigmoid(z):\n",
        "    return 1 / (1 + np.exp(-z))\n"
      ],
      "metadata": {
        "id": "Hz-NhXfmzzaF"
      },
      "execution_count": 84,
      "outputs": []
    },
    {
      "cell_type": "code",
      "source": [
        "# Derivative of sigmoid\n",
        "def sigmoid_derivative(z):\n",
        "    return sigmoid(z) * (1 - sigmoid(z))"
      ],
      "metadata": {
        "id": "gUI5uMOMz1-k"
      },
      "execution_count": 85,
      "outputs": []
    },
    {
      "cell_type": "code",
      "source": [
        "# Forward propagation\n",
        "def forward_propagation(X, w1, b1, w2, b2):\n",
        "    z1 = np.dot(X, w1) + b1\n",
        "    a1 = sigmoid(z1)\n",
        "    z2 = np.dot(a1, w2) + b2\n",
        "    a2 = sigmoid(z2)  # Output layer also uses sigmoid for binary classification\n",
        "    return z1, a1, z2, a2\n"
      ],
      "metadata": {
        "id": "RepfUJCyz8H9"
      },
      "execution_count": 86,
      "outputs": []
    },
    {
      "cell_type": "code",
      "source": [
        "# Backward propagation\n",
        "#def backward_propagation(X, y, a1, a2, z1, w2, m):\n",
        "def backward_propagation(X, y, a1, a2, z1, w1, w2, m, lambda_reg):\n",
        "    dz2 = a2 - y.reshape(-1, 1)\n",
        "    # dw2 = (1 / m) * np.dot(a1.T, dz2)\n",
        "    dw2 = (1 / m) * np.dot(a1.T, dz2) + (lambda_reg / m) * w2 # added the regularization term\n",
        "    db2 = (1 / m) * np.sum(dz2, axis=0, keepdims=True)\n",
        "    dz1 = np.dot(dz2, w2.T) * sigmoid_derivative(z1)\n",
        "    #dw1 = (1 / m) * np.dot(X.T, dz1)\n",
        "    dw1 = (1 / m) * np.dot(X.T, dz1) + (lambda_reg / m) * w1 # added the regularization term\n",
        "    db1 = (1 / m) * np.sum(dz1, axis=0, keepdims=True)\n",
        "    return dw1, db1, dw2, db2"
      ],
      "metadata": {
        "id": "bUa7P5faz-3e"
      },
      "execution_count": 87,
      "outputs": []
    },
    {
      "cell_type": "code",
      "source": [
        "# Train step\n",
        "#def train_step(X_batch, y_batch, w1, b1, w2, b2, eta):\n",
        "def train_step(X_batch, y_batch, w1, b1, w2, b2, eta, lambda_reg):\n",
        "    m = X_batch.shape[0]\n",
        "    # Forward propagation\n",
        "    z1, a1, z2, a2 = forward_propagation(X_batch, w1, b1, w2, b2)\n",
        "    # Backward propagation\n",
        "    dw1, db1, dw2, db2 = backward_propagation(X_batch, y_batch, a1, a2, z1, w1, w2, m, lambda_reg)\n",
        "\n",
        "    #dw1, db1, dw2, db2 = backward_propagation(X_batch, y_batch, a1, a2, z1, w2, m)\n",
        "    # Update parameters\n",
        "    w1 -= eta * dw1\n",
        "    b1 -= eta * db1\n",
        "    w2 -= eta * dw2\n",
        "    b2 -= eta * db2\n",
        "    return w1, b1, w2, b2"
      ],
      "metadata": {
        "id": "44_csvC00DAh"
      },
      "execution_count": 88,
      "outputs": []
    },
    {
      "cell_type": "code",
      "source": [
        "# Compute accuracy\n",
        "def compute_accuracy(X, y, w1, b1, w2, b2):\n",
        "    _, _, _, a2 = forward_propagation(X, w1, b1, w2, b2)\n",
        "    predictions = (a2 >= 0.5).astype(int)\n",
        "    return np.mean(predictions.flatten() == y)"
      ],
      "metadata": {
        "id": "zxP2vr530Iz7"
      },
      "execution_count": 89,
      "outputs": []
    },
    {
      "cell_type": "code",
      "source": [
        "# Training loop\n",
        "accuracy_history = []\n",
        "n_samples = x_train.shape[0]\n",
        "n_batches = n_samples // batch_size\n",
        "# %%\n",
        "for epoch in range(epochs):\n",
        "    # Shuffle training data\n",
        "    indices = np.random.permutation(n_samples)\n",
        "    X_shuffled = x_train[indices]\n",
        "    y_shuffled = y_train_even_odd[indices]\n",
        "\n",
        "    # Decay the learning rate each epoch\n",
        "    if epoch % decay_step == 0:\n",
        "        eta *= decay_rate\n",
        "# %%\n",
        "    for batch in range(n_batches):\n",
        "            start = batch * batch_size\n",
        "            end = start + batch_size\n",
        "            X_batch = X_shuffled[start:end]\n",
        "            y_batch = y_shuffled[start:end]\n",
        "            # Train the network\n",
        "            w1, b1, w2, b2 = train_step(X_batch, y_batch, w1, b1, w2, b2, eta,lambda_reg)\n",
        "\n",
        "\n",
        "    # Compute and store test accuracy inside each epoch.\n",
        "    test_acc = compute_accuracy(x_test, y_test_even_odd, w1, b1, w2, b2)\n",
        "    accuracy_history.append(test_acc)\n",
        "    print(f\"Epoch {epoch+1}/{epochs}, Test Accuracy: {test_acc:.4f}, Learning Rate: {eta:.4f}\")"
      ],
      "metadata": {
        "colab": {
          "base_uri": "https://localhost:8080/"
        },
        "id": "DtXkET43DXos",
        "outputId": "993e253d-0ab4-4c40-ca1a-5df9bb4278a7"
      },
      "execution_count": 90,
      "outputs": [
        {
          "output_type": "stream",
          "name": "stdout",
          "text": [
            "Epoch 1/30, Test Accuracy: 0.8504, Learning Rate: 0.0099\n",
            "Epoch 2/30, Test Accuracy: 0.8640, Learning Rate: 0.0098\n",
            "Epoch 3/30, Test Accuracy: 0.8753, Learning Rate: 0.0097\n",
            "Epoch 4/30, Test Accuracy: 0.8820, Learning Rate: 0.0096\n",
            "Epoch 5/30, Test Accuracy: 0.8857, Learning Rate: 0.0095\n",
            "Epoch 6/30, Test Accuracy: 0.8882, Learning Rate: 0.0094\n",
            "Epoch 7/30, Test Accuracy: 0.8917, Learning Rate: 0.0093\n",
            "Epoch 8/30, Test Accuracy: 0.8940, Learning Rate: 0.0092\n",
            "Epoch 9/30, Test Accuracy: 0.8971, Learning Rate: 0.0091\n",
            "Epoch 10/30, Test Accuracy: 0.9008, Learning Rate: 0.0090\n",
            "Epoch 11/30, Test Accuracy: 0.9052, Learning Rate: 0.0090\n",
            "Epoch 12/30, Test Accuracy: 0.9094, Learning Rate: 0.0089\n",
            "Epoch 13/30, Test Accuracy: 0.9139, Learning Rate: 0.0088\n",
            "Epoch 14/30, Test Accuracy: 0.9177, Learning Rate: 0.0087\n",
            "Epoch 15/30, Test Accuracy: 0.9204, Learning Rate: 0.0086\n",
            "Epoch 16/30, Test Accuracy: 0.9264, Learning Rate: 0.0085\n",
            "Epoch 17/30, Test Accuracy: 0.9295, Learning Rate: 0.0084\n",
            "Epoch 18/30, Test Accuracy: 0.9328, Learning Rate: 0.0083\n",
            "Epoch 19/30, Test Accuracy: 0.9347, Learning Rate: 0.0083\n",
            "Epoch 20/30, Test Accuracy: 0.9367, Learning Rate: 0.0082\n",
            "Epoch 21/30, Test Accuracy: 0.9393, Learning Rate: 0.0081\n",
            "Epoch 22/30, Test Accuracy: 0.9416, Learning Rate: 0.0080\n",
            "Epoch 23/30, Test Accuracy: 0.9432, Learning Rate: 0.0079\n",
            "Epoch 24/30, Test Accuracy: 0.9438, Learning Rate: 0.0079\n",
            "Epoch 25/30, Test Accuracy: 0.9452, Learning Rate: 0.0078\n",
            "Epoch 26/30, Test Accuracy: 0.9472, Learning Rate: 0.0077\n",
            "Epoch 27/30, Test Accuracy: 0.9477, Learning Rate: 0.0076\n",
            "Epoch 28/30, Test Accuracy: 0.9483, Learning Rate: 0.0075\n",
            "Epoch 29/30, Test Accuracy: 0.9498, Learning Rate: 0.0075\n",
            "Epoch 30/30, Test Accuracy: 0.9503, Learning Rate: 0.0074\n"
          ]
        }
      ]
    },
    {
      "cell_type": "code",
      "source": [
        "# Final evaluation\n",
        "final_acc = compute_accuracy(x_test, y_test_even_odd, w1, b1, w2, b2)\n",
        "print(f\"Final Test Accuracy: {final_acc:.4f}\")"
      ],
      "metadata": {
        "colab": {
          "base_uri": "https://localhost:8080/"
        },
        "id": "bJxFx99J0iDn",
        "outputId": "d0a7eff2-9666-448b-d527-bc44bdde8557"
      },
      "execution_count": 91,
      "outputs": [
        {
          "output_type": "stream",
          "name": "stdout",
          "text": [
            "Final Test Accuracy: 0.9503\n"
          ]
        }
      ]
    },
    {
      "cell_type": "code",
      "source": [
        "# Visualize 10 random test images\n",
        "random_indices = np.random.randint(0, x_test.shape[0], size=10)\n",
        "plt.figure(figsize=(15, 6))\n",
        "for idx, i in enumerate(random_indices):\n",
        "    image = x_test[i].reshape(28, 28)\n",
        "    true_label = y_test_even_odd[i]\n",
        "    _, _, _, a2 = forward_propagation(x_test[i:i + 1], w1, b1, w2, b2)\n",
        "    prediction = 1 if a2[0] >= 0.5 else 0\n",
        "    true_text = \"Odd\" if true_label == 1 else \"Even\"\n",
        "    pred_text = \"Odd\" if prediction == 1 else \"Even\"\n",
        "\n",
        "    plt.subplot(2, 5, idx + 1)\n",
        "    plt.imshow(image, cmap='gray')\n",
        "    plt.title(f\"True: {true_text}\\nPred: {pred_text}\")\n",
        "    plt.axis('off')\n",
        "plt.tight_layout()\n",
        "plt.savefig('test_results.png')\n",
        "plt.show()"
      ],
      "metadata": {
        "colab": {
          "base_uri": "https://localhost:8080/",
          "height": 491
        },
        "id": "7NT4Rjec04U_",
        "outputId": "87f8cae3-a45b-40b2-b66c-3fb16b32b28c"
      },
      "execution_count": 92,
      "outputs": [
        {
          "output_type": "display_data",
          "data": {
            "text/plain": [
              "<Figure size 1500x600 with 10 Axes>"
            ],
            "image/png": "[encoded data removed]"
          },
          "metadata": {}
        }
      ]
    },
    {
      "cell_type": "code",
      "source": [
        "# Plot accuracy history\n",
        "plt.figure(figsize=(8, 5))\n",
        "plt.plot(range(1, epochs + 1), accuracy_history, marker='o')\n",
        "plt.xlabel('Epoch')\n",
        "plt.ylabel('Test Accuracy')\n",
        "plt.title('Accuracy Over Training Epochs')\n",
        "plt.grid(True)\n",
        "plt.savefig('accuracy_history.png')\n",
        "plt.show()"
      ],
      "metadata": {
        "colab": {
          "base_uri": "https://localhost:8080/",
          "height": 487
        },
        "id": "TyQQCHM91AIN",
        "outputId": "2f2c83a0-527d-4455-c912-40134598efe7"
      },
      "execution_count": 93,
      "outputs": [
        {
          "output_type": "display_data",
          "data": {
            "text/plain": [
              "<Figure size 800x500 with 1 Axes>"
            ],
            "image/png": "[encoded data removed]"
          },
          "metadata": {}
        }
      ]
    },
    {
      "cell_type": "code",
      "source": [],
      "metadata": {
        "id": "ixh2Oujt1Evn"
      },
      "execution_count": null,
      "outputs": []
    }
  ]
}